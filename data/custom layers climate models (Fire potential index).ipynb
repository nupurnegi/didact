{
 "cells": [
  {
   "cell_type": "markdown",
   "id": "c21e9b65-d082-4767-a004-39efa1baaac4",
   "metadata": {},
   "source": [
    "Once the data is uploaded to EIS-Geospatial Component (PAIRS), you can use this notebook to expose a query as custom layer.   "
   ]
  },
  {
   "cell_type": "markdown",
   "id": "0b0f8ccd-b39e-4b80-9a85-2411e892cdd5",
   "metadata": {},
   "source": [
    "# Module Imports"
   ]
  },
  {
   "cell_type": "code",
   "execution_count": 1,
   "id": "smaller-polish",
   "metadata": {
    "ExecuteTime": {
     "end_time": "2021-08-04T15:19:57.762944Z",
     "start_time": "2021-08-04T15:19:57.722257Z"
    },
    "execution": {
     "iopub.execute_input": "2021-09-15T15:04:52.816013Z",
     "iopub.status.busy": "2021-09-15T15:04:52.815730Z",
     "iopub.status.idle": "2021-09-15T15:04:53.175262Z",
     "shell.execute_reply": "2021-09-15T15:04:53.174782Z",
     "shell.execute_reply.started": "2021-09-15T15:04:52.815947Z"
    },
    "tags": []
   },
   "outputs": [],
   "source": [
    "import requests \n",
    "import json\n",
    "import pandas as pd\n",
    "import numpy as np\n",
    "import time"
   ]
  },
  {
   "cell_type": "code",
   "execution_count": 2,
   "id": "b711f2d6-e3db-4127-b972-e0ade983b76e",
   "metadata": {
    "execution": {
     "iopub.execute_input": "2021-09-15T15:04:53.306208Z",
     "iopub.status.busy": "2021-09-15T15:04:53.305942Z",
     "iopub.status.idle": "2021-09-15T15:04:53.314981Z",
     "shell.execute_reply": "2021-09-15T15:04:53.314221Z",
     "shell.execute_reply.started": "2021-09-15T15:04:53.306178Z"
    },
    "tags": []
   },
   "outputs": [],
   "source": [
    "import jwt"
   ]
  },
  {
   "cell_type": "code",
   "execution_count": 40,
   "id": "b83f6829-4d8b-48f1-8d68-fe8c23b8ad79",
   "metadata": {
    "execution": {
     "iopub.execute_input": "2021-09-15T15:41:47.144575Z",
     "iopub.status.busy": "2021-09-15T15:41:47.144283Z",
     "iopub.status.idle": "2021-09-15T15:41:47.148260Z",
     "shell.execute_reply": "2021-09-15T15:41:47.147576Z",
     "shell.execute_reply.started": "2021-09-15T15:41:47.144546Z"
    },
    "tags": []
   },
   "outputs": [],
   "source": [
    "API_KEY = \"\""
   ]
  },
  {
   "cell_type": "code",
   "execution_count": 41,
   "id": "embedded-midwest",
   "metadata": {
    "ExecuteTime": {
     "end_time": "2021-08-04T15:19:59.416115Z",
     "start_time": "2021-08-04T15:19:58.290475Z"
    },
    "execution": {
     "iopub.execute_input": "2021-09-15T15:41:47.599682Z",
     "iopub.status.busy": "2021-09-15T15:41:47.599326Z",
     "iopub.status.idle": "2021-09-15T15:41:47.839549Z",
     "shell.execute_reply": "2021-09-15T15:41:47.838979Z",
     "shell.execute_reply.started": "2021-09-15T15:41:47.599654Z"
    },
    "tags": []
   },
   "outputs": [],
   "source": [
    "import requests\n",
    "\n",
    "url = \"https://auth-b2b-twc.ibm.com/Auth/GetBearerForClient\"\n",
    "\n",
    "payload={\"apiKey\":API_KEY,\n",
    "         \"clientId\":\"ibm-agro-api\"}\n",
    "headers = {\n",
    "  'Content-Type': 'application/json'\n",
    "}\n",
    "\n",
    "response = requests.request(\"POST\", url, headers=headers, data=json.dumps(payload))"
   ]
  },
  {
   "cell_type": "code",
   "execution_count": 5,
   "id": "greater-poultry",
   "metadata": {
    "ExecuteTime": {
     "end_time": "2021-08-04T15:19:59.484844Z",
     "start_time": "2021-08-04T15:19:59.418965Z"
    },
    "execution": {
     "iopub.execute_input": "2021-09-15T15:04:54.924108Z",
     "iopub.status.busy": "2021-09-15T15:04:54.923677Z",
     "iopub.status.idle": "2021-09-15T15:04:54.934569Z",
     "shell.execute_reply": "2021-09-15T15:04:54.933764Z",
     "shell.execute_reply.started": "2021-09-15T15:04:54.924081Z"
    },
    "tags": []
   },
   "outputs": [
    {
     "data": {
      "text/plain": [
       "200"
      ]
     },
     "execution_count": 5,
     "metadata": {},
     "output_type": "execute_result"
    }
   ],
   "source": [
    "response.status_code"
   ]
  },
  {
   "cell_type": "code",
   "execution_count": 6,
   "id": "stylish-socket",
   "metadata": {
    "ExecuteTime": {
     "end_time": "2021-08-04T15:20:00.145357Z",
     "start_time": "2021-08-04T15:20:00.136750Z"
    },
    "execution": {
     "iopub.execute_input": "2021-09-15T15:04:55.449189Z",
     "iopub.status.busy": "2021-09-15T15:04:55.448923Z",
     "iopub.status.idle": "2021-09-15T15:04:55.452356Z",
     "shell.execute_reply": "2021-09-15T15:04:55.451710Z",
     "shell.execute_reply.started": "2021-09-15T15:04:55.449162Z"
    },
    "tags": []
   },
   "outputs": [],
   "source": [
    "if response:\n",
    "    AUTH_TOKEN = response.json()[\"access_token\"]"
   ]
  },
  {
   "cell_type": "raw",
   "id": "diagnostic-bottle",
   "metadata": {},
   "source": [
    "Flood layers: 51212\n",
    "Fire danger rating : 50039"
   ]
  },
  {
   "cell_type": "code",
   "execution_count": 42,
   "id": "f5fc3a24-80af-4b6a-8961-83f55c00e4f8",
   "metadata": {
    "execution": {
     "iopub.execute_input": "2021-09-15T15:43:15.399798Z",
     "iopub.status.busy": "2021-09-15T15:43:15.399533Z",
     "iopub.status.idle": "2021-09-15T15:43:15.411409Z",
     "shell.execute_reply": "2021-09-15T15:43:15.409595Z",
     "shell.execute_reply.started": "2021-09-15T15:43:15.399771Z"
    },
    "tags": []
   },
   "outputs": [],
   "source": [
    "def check_jwt(jwt_token):\n",
    "\n",
    "    response = jwt.decode(jwt_token, options={\"verify_signature\": False})\n",
    "    org = str(response['account_name'])\n",
    "    iss = str(response['iss'])\n",
    "    \n",
    "    print(org,iss)\n"
   ]
  },
  {
   "cell_type": "code",
   "execution_count": 9,
   "id": "6bc15c80-6271-4446-8bd8-fb6c8db1ce71",
   "metadata": {
    "execution": {
     "iopub.execute_input": "2021-09-15T15:04:59.803485Z",
     "iopub.status.busy": "2021-09-15T15:04:59.803271Z",
     "iopub.status.idle": "2021-09-15T15:04:59.806726Z",
     "shell.execute_reply": "2021-09-15T15:04:59.806142Z",
     "shell.execute_reply.started": "2021-09-15T15:04:59.803464Z"
    },
    "tags": []
   },
   "outputs": [
    {
     "name": "stdout",
     "output_type": "stream",
     "text": [
      "wocTrialWorldFuel https://auth-b2b-twc.ibm.com\n"
     ]
    }
   ],
   "source": [
    "check_jwt(jwt_token=AUTH_TOKEN)"
   ]
  },
  {
   "cell_type": "markdown",
   "id": "herbal-warehouse",
   "metadata": {},
   "source": [
    "# Register Custom layer"
   ]
  },
  {
   "cell_type": "markdown",
   "id": "e8dadc90-2cb4-4b6a-bb1a-ee4f92272372",
   "metadata": {},
   "source": [
    "To register a custom layer, one need to decide on the spatial and temporal extent of a PAIRS layer and come put with a valid PAIRS raster query. One can experiment with different spatial and temporal extents using the PAIRS data expolorer at https://ibmpairs.mybluemix.net/data-explorer\n",
    "\n",
    "In case of AOI (Area of Interest) polygons, PAIRS has pre-defined set of AOIs with ids assigned to each aoi. For Ecample AOI id 125 corresponds to the US-State of Oregon. \n",
    "\n",
    "One can get a full list of AOIs by using the API call : https://pairs.res.ibm.com/ws/queryaois/repository/search?name=SEARCH_TERM\n"
   ]
  },
  {
   "cell_type": "raw",
   "id": "54892af6-91f2-44ea-a0a5-4e3b98d03e52",
   "metadata": {},
   "source": [
    "pairs_payload_aoi_example\n",
    "\n",
    "{\n",
    "    \"spatial\": {\n",
    "        \"type\": \"poly\",\n",
    "        \"aoi\": \"125\"\n",
    "    },\n",
    "    \"temporal\": {\n",
    "        \"intervals\": [\n",
    "            {\n",
    "                \"start\": \"2021-08-13\",\n",
    "                \"end\": \"2021-08-15\"\n",
    "            }\n",
    "        ]\n",
    "    },\n",
    "    \"layers\": [\n",
    "        {\n",
    "            \"id\": \"50039\",\n",
    "            \"type\": \"raster\"\n",
    "        }\n",
    "    ]\n",
    "}"
   ]
  },
  {
   "cell_type": "raw",
   "id": "e160eb8e-41ab-481b-ad17-682aec26ed35",
   "metadata": {},
   "source": [
    "pairs_payload_wkt_example\n",
    "\n",
    "{\n",
    "    \"spatial\": {\n",
    "        \"type\": \"poly\",\n",
    "        \"polygon\": {\n",
    "            \"wkt\": \"MULTIPOLYGON (((40 40, 20 45, 45 30, 40 40)), ((20 35, 10 30, 10 10, 30 5, 45 20, 20 35), (30 20, 20 15, 20 25, 30 20)))\"\n",
    "        }\n",
    "    },\n",
    "    \"temporal\": {\n",
    "        \"intervals\": [\n",
    "            {\n",
    "                \"start\": \"2020-09-01\",\n",
    "                \"end\": \"2020-09-30\"\n",
    "            }\n",
    "        ]\n",
    "    },\n",
    "    \"layers\": [\n",
    "        {\n",
    "            \"id\": \"50039\",\n",
    "            \"type\": \"raster\"\n",
    "        }\n",
    "    ]\n",
    "}"
   ]
  },
  {
   "cell_type": "raw",
   "id": "007654f4-3b33-4e2f-8e24-6572419bc7cf",
   "metadata": {},
   "source": [
    "pairs_payload_square_box_example\n",
    "\n",
    "{\n",
    "\n",
    "    \"spatial\": {\n",
    "        \"type\": \"square\",\n",
    "        \"coordinates\": [\n",
    "            38,\n",
    "            -122,\n",
    "            39,\n",
    "            -121\n",
    "        ]\n",
    "    },\n",
    "    \"temporal\": {\n",
    "        \"intervals\": [\n",
    "            {\n",
    "                \"start\": \"2020-09-01\",\n",
    "                \"end\": \"2020-09-30\"\n",
    "            }\n",
    "        ]\n",
    "    },\n",
    "    \"layers\": [\n",
    "        {\n",
    "            \"id\": \"51\",\n",
    "            \"type\": \"raster\"\n",
    "        }\n",
    "    ]\n",
    "}"
   ]
  },
  {
   "cell_type": "markdown",
   "id": "160400b5-c006-41fb-8aca-7b09f3bfae41",
   "metadata": {},
   "source": [
    "In this example we will use the Fire Danger Rating Layer (id: 50039) for th State of Oregon. "
   ]
  },
  {
   "cell_type": "code",
   "execution_count": 10,
   "id": "outdoor-lightweight",
   "metadata": {
    "ExecuteTime": {
     "end_time": "2021-08-04T15:20:08.207122Z",
     "start_time": "2021-08-04T15:20:08.202957Z"
    },
    "execution": {
     "iopub.execute_input": "2021-09-15T15:06:41.162106Z",
     "iopub.status.busy": "2021-09-15T15:06:41.161834Z",
     "iopub.status.idle": "2021-09-15T15:06:41.166431Z",
     "shell.execute_reply": "2021-09-15T15:06:41.165565Z",
     "shell.execute_reply.started": "2021-09-15T15:06:41.162080Z"
    },
    "tags": []
   },
   "outputs": [],
   "source": [
    "fire_pairs_payload = {\n",
    "    \"spatial\": {\n",
    "        \"type\": \"poly\",\n",
    "        \"aoi\": \"126\"\n",
    "    },\n",
    "    \"temporal\": {\n",
    "        \"intervals\": [\n",
    "            {\n",
    "                \"start\": \"2021-08-13\",\n",
    "                \"end\": \"2021-08-15\"\n",
    "            }\n",
    "        ]\n",
    "    },\n",
    "    \"layers\": [\n",
    "        {\n",
    "            \"id\": \"50039\",\n",
    "            \"type\": \"raster\"\n",
    "        }\n",
    "    ]\n",
    "}"
   ]
  },
  {
   "cell_type": "markdown",
   "id": "80a44ac0-34b5-4736-89fa-67da2eaeee2c",
   "metadata": {},
   "source": [
    "Pick a name for `analyticsName` that describes the cutom layer. This name will be displayed on th EIS UI."
   ]
  },
  {
   "cell_type": "code",
   "execution_count": 11,
   "id": "permanent-slave",
   "metadata": {
    "ExecuteTime": {
     "end_time": "2021-08-04T15:20:08.872899Z",
     "start_time": "2021-08-04T15:20:08.863705Z"
    },
    "execution": {
     "iopub.execute_input": "2021-09-15T15:06:58.543133Z",
     "iopub.status.busy": "2021-09-15T15:06:58.542849Z",
     "iopub.status.idle": "2021-09-15T15:06:58.546376Z",
     "shell.execute_reply": "2021-09-15T15:06:58.545579Z",
     "shell.execute_reply.started": "2021-09-15T15:06:58.543107Z"
    },
    "tags": []
   },
   "outputs": [],
   "source": [
    "registration_payload = {\n",
    "    \"pairsPayload\":  json.dumps(fire_pairs_payload)   ,\n",
    "    \"analyticsName\": \"Fire Danger Rating Colorado August 2021\"\n",
    "}"
   ]
  },
  {
   "cell_type": "markdown",
   "id": "daabd3f9-d724-41b2-9404-4806e5714eb4",
   "metadata": {},
   "source": [
    "To register a PAIRS payload as a custom layer, we make a POST call to https://foundation.agtech.ibm.com/v2/layer/analytics/metadata and the response containts a `analyticsUuid` which is a unique identifier for the custom layer. We will use this UUID to add a UI Block in the next step."
   ]
  },
  {
   "cell_type": "code",
   "execution_count": 12,
   "id": "minimal-recycling",
   "metadata": {
    "ExecuteTime": {
     "end_time": "2021-08-04T15:20:14.629635Z",
     "start_time": "2021-08-04T15:20:11.916099Z"
    },
    "execution": {
     "iopub.execute_input": "2021-09-15T15:07:02.978693Z",
     "iopub.status.busy": "2021-09-15T15:07:02.978423Z",
     "iopub.status.idle": "2021-09-15T15:07:04.626321Z",
     "shell.execute_reply": "2021-09-15T15:07:04.625673Z",
     "shell.execute_reply.started": "2021-09-15T15:07:02.978664Z"
    },
    "tags": []
   },
   "outputs": [
    {
     "name": "stdout",
     "output_type": "stream",
     "text": [
      "[\n",
      "  {\n",
      "    \"analyticsUuid\": \"8468a886-e6ad-4ec2-aa65-eb05864bc3c6\",\n",
      "    \"layerId\": \"50039\",\n",
      "    \"baseComputationId\": \"1631678400_40024186\"\n",
      "  }\n",
      "]\n"
     ]
    }
   ],
   "source": [
    "url = \"https://foundation.agtech.ibm.com/v2/layer/analytics/metadata\"\n",
    "\n",
    "headers = {\n",
    "  'Authorization': 'Bearer {}'.format(AUTH_TOKEN),\n",
    "  'Content-Type': 'application/json'\n",
    "}\n",
    "\n",
    "response = requests.request(\"POST\", url, headers=headers, data=json.dumps(registration_payload))\n",
    "\n",
    "print(json.dumps(response.json(),indent=2))\n"
   ]
  },
  {
   "cell_type": "code",
   "execution_count": null,
   "id": "28d1f1e1-be44-4b44-abe4-70035e584aee",
   "metadata": {},
   "outputs": [],
   "source": []
  },
  {
   "cell_type": "code",
   "execution_count": 13,
   "id": "ca8fe855-c762-49c1-9a5b-2dcb42016dcb",
   "metadata": {
    "execution": {
     "iopub.execute_input": "2021-09-15T15:07:06.864351Z",
     "iopub.status.busy": "2021-09-15T15:07:06.864090Z",
     "iopub.status.idle": "2021-09-15T15:07:06.868611Z",
     "shell.execute_reply": "2021-09-15T15:07:06.867867Z",
     "shell.execute_reply.started": "2021-09-15T15:07:06.864323Z"
    },
    "tags": []
   },
   "outputs": [
    {
     "data": {
      "text/plain": [
       "'[{\"analyticsUuid\":\"8468a886-e6ad-4ec2-aa65-eb05864bc3c6\",\"layerId\":\"50039\",\"baseComputationId\":\"1631678400_40024186\"}]'"
      ]
     },
     "execution_count": 13,
     "metadata": {},
     "output_type": "execute_result"
    }
   ],
   "source": [
    "response.text"
   ]
  },
  {
   "cell_type": "code",
   "execution_count": 14,
   "id": "structural-consent",
   "metadata": {
    "ExecuteTime": {
     "end_time": "2021-08-04T15:20:18.183789Z",
     "start_time": "2021-08-04T15:20:18.172486Z"
    },
    "execution": {
     "iopub.execute_input": "2021-09-15T15:07:07.447805Z",
     "iopub.status.busy": "2021-09-15T15:07:07.447534Z",
     "iopub.status.idle": "2021-09-15T15:07:07.452015Z",
     "shell.execute_reply": "2021-09-15T15:07:07.451202Z",
     "shell.execute_reply.started": "2021-09-15T15:07:07.447779Z"
    },
    "tags": []
   },
   "outputs": [],
   "source": [
    "layer_info = response.json()\n",
    "#print(layer_info)\n",
    "\n",
    "analytics_uuid = layer_info[0][\"analyticsUuid\"]\n",
    "pairs_layer_id = layer_info[0][\"layerId\"]\n",
    "base_computation_id = layer_info[0][\"baseComputationId\"]"
   ]
  },
  {
   "cell_type": "markdown",
   "id": "encouraging-jenny",
   "metadata": {},
   "source": [
    "# Customizing Colorsheme for the custom-layers on the UI"
   ]
  },
  {
   "cell_type": "markdown",
   "id": "2f874cf7-9c8c-403d-bfa8-0ad7946c0d7f",
   "metadata": {},
   "source": [
    "This section has the"
   ]
  },
  {
   "cell_type": "code",
   "execution_count": 15,
   "id": "excellent-rwanda",
   "metadata": {
    "ExecuteTime": {
     "end_time": "2021-08-04T15:20:21.150133Z",
     "start_time": "2021-08-04T15:20:21.139830Z"
    },
    "execution": {
     "iopub.execute_input": "2021-09-15T15:07:09.683247Z",
     "iopub.status.busy": "2021-09-15T15:07:09.682997Z",
     "iopub.status.idle": "2021-09-15T15:07:09.686964Z",
     "shell.execute_reply": "2021-09-15T15:07:09.686291Z",
     "shell.execute_reply.started": "2021-09-15T15:07:09.683222Z"
    },
    "tags": []
   },
   "outputs": [],
   "source": [
    "def hex_to_rgb(hex_code):\n",
    "    h = hex_code.lstrip('#')\n",
    "    return list(int(h[i:i+2], 16) for i in (0, 2, 4))"
   ]
  },
  {
   "cell_type": "code",
   "execution_count": 16,
   "id": "accredited-flour",
   "metadata": {
    "ExecuteTime": {
     "end_time": "2021-08-04T15:20:21.695234Z",
     "start_time": "2021-08-04T15:20:21.691400Z"
    },
    "execution": {
     "iopub.execute_input": "2021-09-15T15:07:10.250941Z",
     "iopub.status.busy": "2021-09-15T15:07:10.250418Z",
     "iopub.status.idle": "2021-09-15T15:07:10.254502Z",
     "shell.execute_reply": "2021-09-15T15:07:10.253550Z",
     "shell.execute_reply.started": "2021-09-15T15:07:10.250912Z"
    },
    "tags": []
   },
   "outputs": [],
   "source": [
    "pairs_url = \"https://pairs.res.ibm.com/v2/datalayers/{}\".format(pairs_layer_id)"
   ]
  },
  {
   "cell_type": "code",
   "execution_count": 17,
   "id": "sixth-latter",
   "metadata": {
    "ExecuteTime": {
     "end_time": "2021-08-04T15:20:22.876094Z",
     "start_time": "2021-08-04T15:20:22.873662Z"
    },
    "execution": {
     "iopub.execute_input": "2021-09-15T15:07:10.710991Z",
     "iopub.status.busy": "2021-09-15T15:07:10.710724Z",
     "iopub.status.idle": "2021-09-15T15:07:10.715924Z",
     "shell.execute_reply": "2021-09-15T15:07:10.715249Z",
     "shell.execute_reply.started": "2021-09-15T15:07:10.710963Z"
    },
    "tags": []
   },
   "outputs": [],
   "source": [
    "headers = {\n",
    "  'Authorization': 'Bearer {}'.format(AUTH_TOKEN)\n",
    "}"
   ]
  },
  {
   "cell_type": "code",
   "execution_count": 18,
   "id": "continuing-translator",
   "metadata": {
    "ExecuteTime": {
     "end_time": "2021-08-04T15:20:24.171904Z",
     "start_time": "2021-08-04T15:20:23.537311Z"
    },
    "execution": {
     "iopub.execute_input": "2021-09-15T15:07:11.386824Z",
     "iopub.status.busy": "2021-09-15T15:07:11.386566Z",
     "iopub.status.idle": "2021-09-15T15:07:11.772076Z",
     "shell.execute_reply": "2021-09-15T15:07:11.771362Z",
     "shell.execute_reply.started": "2021-09-15T15:07:11.386796Z"
    },
    "tags": []
   },
   "outputs": [],
   "source": [
    "response = requests.request(\"GET\", pairs_url, headers=headers)"
   ]
  },
  {
   "cell_type": "code",
   "execution_count": 19,
   "id": "negative-explorer",
   "metadata": {
    "ExecuteTime": {
     "end_time": "2021-08-04T15:20:25.684395Z",
     "start_time": "2021-08-04T15:20:25.673456Z"
    },
    "execution": {
     "iopub.execute_input": "2021-09-15T15:07:11.911793Z",
     "iopub.status.busy": "2021-09-15T15:07:11.911543Z",
     "iopub.status.idle": "2021-09-15T15:07:11.917628Z",
     "shell.execute_reply": "2021-09-15T15:07:11.916989Z",
     "shell.execute_reply.started": "2021-09-15T15:07:11.911767Z"
    },
    "tags": []
   },
   "outputs": [
    {
     "data": {
      "text/plain": [
       "{'id': '50039',\n",
       " 'created_at': 1593726629784,\n",
       " 'updated_at': 1631639727738,\n",
       " 'data_source_links': [],\n",
       " 'description_short': 'A Fire Danger Rating level taking into account current and antecedent weather, fuel types, and both live and dead fuel moisture.',\n",
       " 'description_long': 'The United States Forest Service (USFS) - Wildland Fire Assessment System (WFAS) collect observations from the field along with weather observations to compute a Fire Danger Rating. The Fire Danger Rating level takes into account current and antecedent weather, fuel types, and both live and dead fuel moisture.  The data in this layer is derived from the daily WFAS reports. The categorical Fire Danger Ratings low/medium/high/very high/extreme are converted to floating point numbers 0.2/0.4/0.6/0.8/1.0. Rasterization of the data uses inverse distance weighted interpolation.',\n",
       " 'description_links': [],\n",
       " 'latitude_min': -90.0,\n",
       " 'latitude_max': 90.0,\n",
       " 'longitude_min': -180.0,\n",
       " 'longitude_max': 180.0,\n",
       " 'temporal_min': 0,\n",
       " 'temporal_max': 1631577600000,\n",
       " 'temporal_resolution': '0 years 0 mons 0 days 0 hours 0 mins 86400.00 secs',\n",
       " 'permanence': True,\n",
       " 'rating': 1.0,\n",
       " 'update_interval_max': '0 years 0 mons 0 days 0 hours 0 mins 86400.00 secs',\n",
       " 'units': '[0-1]',\n",
       " 'type': 'R',\n",
       " 'name': 'Fire danger rating',\n",
       " 'dataset_id': 299,\n",
       " 'crs': '',\n",
       " 'datatype': 'fl',\n",
       " 'level': 13,\n",
       " 'colorTable': {'id': 58,\n",
       "  'name': 'Red',\n",
       "  'colors': 'FFFFB2,FECC5C,FD8D3C,F03B20,BD0026'},\n",
       " 'spatial_coverage': {},\n",
       " 'properties': {}}"
      ]
     },
     "execution_count": 19,
     "metadata": {},
     "output_type": "execute_result"
    }
   ],
   "source": [
    "response.json()"
   ]
  },
  {
   "cell_type": "code",
   "execution_count": 20,
   "id": "latest-viking",
   "metadata": {
    "ExecuteTime": {
     "end_time": "2021-08-04T15:20:26.455134Z",
     "start_time": "2021-08-04T15:20:26.449775Z"
    },
    "execution": {
     "iopub.execute_input": "2021-09-15T15:07:13.034424Z",
     "iopub.status.busy": "2021-09-15T15:07:13.034125Z",
     "iopub.status.idle": "2021-09-15T15:07:13.038628Z",
     "shell.execute_reply": "2021-09-15T15:07:13.037555Z",
     "shell.execute_reply.started": "2021-09-15T15:07:13.034396Z"
    },
    "tags": []
   },
   "outputs": [],
   "source": [
    "color_block = response.json()[\"colorTable\"]"
   ]
  },
  {
   "cell_type": "code",
   "execution_count": 21,
   "id": "therapeutic-champagne",
   "metadata": {
    "ExecuteTime": {
     "end_time": "2021-08-04T15:20:27.501455Z",
     "start_time": "2021-08-04T15:20:27.496826Z"
    },
    "execution": {
     "iopub.execute_input": "2021-09-15T15:07:14.209340Z",
     "iopub.status.busy": "2021-09-15T15:07:14.209019Z",
     "iopub.status.idle": "2021-09-15T15:07:14.213627Z",
     "shell.execute_reply": "2021-09-15T15:07:14.212985Z",
     "shell.execute_reply.started": "2021-09-15T15:07:14.209314Z"
    },
    "tags": []
   },
   "outputs": [
    {
     "data": {
      "text/plain": [
       "{'id': 58, 'name': 'Red', 'colors': 'FFFFB2,FECC5C,FD8D3C,F03B20,BD0026'}"
      ]
     },
     "execution_count": 21,
     "metadata": {},
     "output_type": "execute_result"
    }
   ],
   "source": [
    "color_block"
   ]
  },
  {
   "cell_type": "code",
   "execution_count": 22,
   "id": "quiet-stevens",
   "metadata": {
    "ExecuteTime": {
     "end_time": "2021-08-04T15:20:28.671631Z",
     "start_time": "2021-08-04T15:20:28.663916Z"
    },
    "execution": {
     "iopub.execute_input": "2021-09-15T15:07:14.801947Z",
     "iopub.status.busy": "2021-09-15T15:07:14.801685Z",
     "iopub.status.idle": "2021-09-15T15:07:14.806465Z",
     "shell.execute_reply": "2021-09-15T15:07:14.805524Z",
     "shell.execute_reply.started": "2021-09-15T15:07:14.801920Z"
    },
    "tags": []
   },
   "outputs": [
    {
     "name": "stdout",
     "output_type": "stream",
     "text": [
      "FFFFB2\n",
      "[255, 255, 178]\n",
      "FECC5C\n",
      "[254, 204, 92]\n",
      "FD8D3C\n",
      "[253, 141, 60]\n",
      "F03B20\n",
      "[240, 59, 32]\n",
      "BD0026\n",
      "[189, 0, 38]\n"
     ]
    }
   ],
   "source": [
    "for color in color_block[\"colors\"].split(','):\n",
    "    print(color)\n",
    "    print(hex_to_rgb(color))"
   ]
  },
  {
   "cell_type": "markdown",
   "id": "beautiful-section",
   "metadata": {},
   "source": [
    "## PAIRS layer metadata"
   ]
  },
  {
   "cell_type": "markdown",
   "id": "61ffb7ab-1b51-4f17-9e7e-70dfdd1fced5",
   "metadata": {},
   "source": [
    "We Need to wait till the PAIRS job is finished before going to the next step. The following block keeps requesting the job status till the job is done. "
   ]
  },
  {
   "cell_type": "code",
   "execution_count": 23,
   "id": "7daf32bc-035e-4cd7-9ca2-3d9efc0dac65",
   "metadata": {
    "execution": {
     "iopub.execute_input": "2021-09-15T15:07:17.516345Z",
     "iopub.status.busy": "2021-09-15T15:07:17.516084Z",
     "iopub.status.idle": "2021-09-15T15:07:17.521361Z",
     "shell.execute_reply": "2021-09-15T15:07:17.520569Z",
     "shell.execute_reply.started": "2021-09-15T15:07:17.516318Z"
    },
    "tags": []
   },
   "outputs": [
    {
     "data": {
      "text/plain": [
       "'1631678400_40024186'"
      ]
     },
     "execution_count": 23,
     "metadata": {},
     "output_type": "execute_result"
    }
   ],
   "source": [
    "base_computation_id"
   ]
  },
  {
   "cell_type": "code",
   "execution_count": 38,
   "id": "66080d2a-e915-4dde-99f7-02a7bfadfdf4",
   "metadata": {
    "execution": {
     "iopub.execute_input": "2021-09-15T15:36:57.246284Z",
     "iopub.status.busy": "2021-09-15T15:36:57.245685Z",
     "iopub.status.idle": "2021-09-15T15:36:57.537806Z",
     "shell.execute_reply": "2021-09-15T15:36:57.537026Z",
     "shell.execute_reply.started": "2021-09-15T15:36:57.246231Z"
    },
    "tags": []
   },
   "outputs": [
    {
     "name": "stdout",
     "output_type": "stream",
     "text": [
      "job Done!!\n"
     ]
    }
   ],
   "source": [
    "pairs_jobs_status_url = f\"https://pairs.res.ibm.com/v2/queryjobs/{base_computation_id}\"\n",
    "\n",
    "payload={}\n",
    "headers = {\n",
    "  'Authorization': f'Bearer {AUTH_TOKEN}'\n",
    "}\n",
    "\n",
    "job_finished = False\n",
    "while not job_finished:\n",
    "    job_status_response = requests.request(\"GET\", pairs_jobs_status_url, headers=headers, data=payload)\n",
    "    if job_status_response.status_code == 200:\n",
    "        job_status = job_status_response.json()[\"status\"]\n",
    "        if (job_status == \"Running\" ) or (job_status == \"Writing\"):\n",
    "            print(f\"Waiting for PAIRS job to finish..current status:{job_status}\")\n",
    "            print(\"waiting for 15 sec..\")\n",
    "            time.sleep(15)\n",
    "        elif (job_status == \"Succeeded\" ):\n",
    "            print(\"job Done!!\")\n",
    "            job_finished = True\n",
    "        elif (job_status == \"NoDataFound\" ):\n",
    "            print(\"PAIRS found no data in the selected geometry and date range..!!\")\n",
    "            print(\"Please select a different date range..\")\n",
    "    else:\n",
    "        job_status_response.raise_for_status()\n"
   ]
  },
  {
   "cell_type": "code",
   "execution_count": 25,
   "id": "e6db0b41-f801-4ded-bf40-3dc88c219c98",
   "metadata": {
    "execution": {
     "iopub.execute_input": "2021-09-15T15:07:37.533890Z",
     "iopub.status.busy": "2021-09-15T15:07:37.533518Z",
     "iopub.status.idle": "2021-09-15T15:07:39.238892Z",
     "shell.execute_reply": "2021-09-15T15:07:39.238216Z",
     "shell.execute_reply.started": "2021-09-15T15:07:37.533863Z"
    },
    "tags": []
   },
   "outputs": [],
   "source": [
    "job_status_response = requests.request(\"GET\", pairs_jobs_status_url, headers=headers, data=payload)"
   ]
  },
  {
   "cell_type": "code",
   "execution_count": 26,
   "id": "4ca353e8-1c7d-41ce-9847-d6a7ff33ad3a",
   "metadata": {
    "execution": {
     "iopub.execute_input": "2021-09-15T15:07:42.881133Z",
     "iopub.status.busy": "2021-09-15T15:07:42.880877Z",
     "iopub.status.idle": "2021-09-15T15:07:42.885771Z",
     "shell.execute_reply": "2021-09-15T15:07:42.884797Z",
     "shell.execute_reply.started": "2021-09-15T15:07:42.881103Z"
    },
    "tags": []
   },
   "outputs": [
    {
     "data": {
      "text/plain": [
       "'{\\n  \"id\" : \"1631678400_40024186\",\\n  \"status\" : \"Succeeded\",\\n  \"start\" : 1631718424186,\\n  \"folder\" : \"1631718424170\",\\n  \"swLat\" : 36.939194,\\n  \"swLon\" : -109.09254,\\n  \"neLat\" : 41.04213,\\n  \"neLon\" : -101.99445,\\n  \"exPercent\" : 0.0,\\n  \"flag\" : true,\\n  \"hadoopId\" : \"1602345287025_5087641\",\\n  \"ready\" : true,\\n  \"rtStatus\" : \"Succeeded\",\\n  \"statusCode\" : 20\\n}'"
      ]
     },
     "execution_count": 26,
     "metadata": {},
     "output_type": "execute_result"
    }
   ],
   "source": [
    "job_status_response.text"
   ]
  },
  {
   "cell_type": "code",
   "execution_count": 27,
   "id": "regulation-advocacy",
   "metadata": {
    "ExecuteTime": {
     "end_time": "2021-07-29T15:14:36.741808Z",
     "start_time": "2021-07-29T15:14:36.372717Z"
    },
    "execution": {
     "iopub.execute_input": "2021-09-15T15:07:45.005704Z",
     "iopub.status.busy": "2021-09-15T15:07:45.005422Z",
     "iopub.status.idle": "2021-09-15T15:07:47.073658Z",
     "shell.execute_reply": "2021-09-15T15:07:47.072537Z",
     "shell.execute_reply.started": "2021-09-15T15:07:45.005676Z"
    },
    "tags": []
   },
   "outputs": [],
   "source": [
    "pairs_metadata_url = \"https://pairs.res.ibm.com/v2/queryjobs/{}/layers\".format(base_computation_id)\n",
    "\n",
    "headers = {\n",
    "  'Authorization': 'Bearer {}'.format(AUTH_TOKEN)\n",
    "}\n",
    "\n",
    "metadata_response = []    \n",
    "\n",
    "metadata_response = requests.request(\"GET\", pairs_metadata_url, headers=headers)\n",
    "\n",
    "\n"
   ]
  },
  {
   "cell_type": "code",
   "execution_count": 28,
   "id": "inclusive-configuration",
   "metadata": {
    "ExecuteTime": {
     "end_time": "2021-07-29T15:14:37.028992Z",
     "start_time": "2021-07-29T15:14:37.024686Z"
    },
    "execution": {
     "iopub.execute_input": "2021-09-15T15:07:47.075603Z",
     "iopub.status.busy": "2021-09-15T15:07:47.075228Z",
     "iopub.status.idle": "2021-09-15T15:07:47.081399Z",
     "shell.execute_reply": "2021-09-15T15:07:47.080512Z",
     "shell.execute_reply.started": "2021-09-15T15:07:47.075574Z"
    },
    "tags": []
   },
   "outputs": [
    {
     "data": {
      "text/plain": [
       "[{'name': '1631678400_40024186WildlandfireUSFS-Firedangerrating-08_14_2021T000000',\n",
       "  'datasetId': 299,\n",
       "  'dataset': 'Wildland fire (USFS)',\n",
       "  'datalayerId': '50039',\n",
       "  'datalayer': 'Fire danger rating',\n",
       "  'timestamp': 1628899200000,\n",
       "  'min': 0.2,\n",
       "  'max': 0.697,\n",
       "  'colorTableId': '58',\n",
       "  'unitsbl': '[0-1]',\n",
       "  'type': 'raster',\n",
       "  'geoserverUrl': 'https://pairs.res.ibm.com:8080/geoserver04',\n",
       "  'geoserverWS': 'pairs'},\n",
       " {'name': '1631678400_40024186WildlandfireUSFS-Firedangerrating-08_15_2021T000000',\n",
       "  'datasetId': 299,\n",
       "  'dataset': 'Wildland fire (USFS)',\n",
       "  'datalayerId': '50039',\n",
       "  'datalayer': 'Fire danger rating',\n",
       "  'timestamp': 1628985600000,\n",
       "  'min': 0.4,\n",
       "  'max': 0.669,\n",
       "  'colorTableId': '58',\n",
       "  'unitsbl': '[0-1]',\n",
       "  'type': 'raster',\n",
       "  'geoserverUrl': 'https://pairs.res.ibm.com:8080/geoserver04',\n",
       "  'geoserverWS': 'pairs'}]"
      ]
     },
     "execution_count": 28,
     "metadata": {},
     "output_type": "execute_result"
    }
   ],
   "source": [
    "metadata_response.json()"
   ]
  },
  {
   "cell_type": "code",
   "execution_count": 29,
   "id": "aging-watts",
   "metadata": {
    "ExecuteTime": {
     "end_time": "2021-07-29T15:14:37.925667Z",
     "start_time": "2021-07-29T15:14:37.923138Z"
    },
    "execution": {
     "iopub.execute_input": "2021-09-15T15:07:49.140161Z",
     "iopub.status.busy": "2021-09-15T15:07:49.139898Z",
     "iopub.status.idle": "2021-09-15T15:07:49.143730Z",
     "shell.execute_reply": "2021-09-15T15:07:49.143019Z",
     "shell.execute_reply.started": "2021-09-15T15:07:49.140131Z"
    },
    "tags": []
   },
   "outputs": [],
   "source": [
    "layer_min = 0\n",
    "layer_max = 1"
   ]
  },
  {
   "cell_type": "code",
   "execution_count": 30,
   "id": "meaningful-measurement",
   "metadata": {
    "ExecuteTime": {
     "end_time": "2021-07-29T15:14:39.372437Z",
     "start_time": "2021-07-29T15:14:39.365737Z"
    },
    "execution": {
     "iopub.execute_input": "2021-09-15T15:07:51.293435Z",
     "iopub.status.busy": "2021-09-15T15:07:51.293185Z",
     "iopub.status.idle": "2021-09-15T15:07:51.298217Z",
     "shell.execute_reply": "2021-09-15T15:07:51.297440Z",
     "shell.execute_reply.started": "2021-09-15T15:07:51.293409Z"
    },
    "tags": []
   },
   "outputs": [],
   "source": [
    "def generate_color_steps(color_block,layer_min,layer_max):\n",
    "    \n",
    "    hex_colors = color_block[\"colors\"].split(',')\n",
    "    value_range = np.linspace(layer_min, layer_max, num=len(hex_colors))\n",
    "    \n",
    "    color_steps = []\n",
    "    for idx,val in enumerate(hex_colors):\n",
    "        \n",
    "        rgba_list = hex_to_rgb(val)\n",
    "        rgba_list.append(255)\n",
    "        dct = {\"step\": value_range[idx], \"rgba\":rgba_list}\n",
    "        \n",
    "        color_steps.append(dct)\n",
    "    \n",
    "    return color_steps\n",
    "        \n",
    "    \n",
    "    "
   ]
  },
  {
   "cell_type": "code",
   "execution_count": 31,
   "id": "absolute-press",
   "metadata": {
    "ExecuteTime": {
     "end_time": "2021-07-29T15:14:39.912639Z",
     "start_time": "2021-07-29T15:14:39.907842Z"
    },
    "execution": {
     "iopub.execute_input": "2021-09-15T15:07:52.862511Z",
     "iopub.status.busy": "2021-09-15T15:07:52.862257Z",
     "iopub.status.idle": "2021-09-15T15:07:52.867306Z",
     "shell.execute_reply": "2021-09-15T15:07:52.866693Z",
     "shell.execute_reply.started": "2021-09-15T15:07:52.862484Z"
    },
    "tags": []
   },
   "outputs": [
    {
     "name": "stdout",
     "output_type": "stream",
     "text": [
      "[{'step': 0.0, 'rgba': [255, 255, 178, 255]}, {'step': 0.25, 'rgba': [254, 204, 92, 255]}, {'step': 0.5, 'rgba': [253, 141, 60, 255]}, {'step': 0.75, 'rgba': [240, 59, 32, 255]}, {'step': 1.0, 'rgba': [189, 0, 38, 255]}]\n"
     ]
    }
   ],
   "source": [
    "color_steps = generate_color_steps(color_block,layer_min,layer_max)\n",
    "\n",
    "print(color_steps)"
   ]
  },
  {
   "cell_type": "markdown",
   "id": "furnished-calgary",
   "metadata": {},
   "source": [
    "# Adding UI block"
   ]
  },
  {
   "cell_type": "code",
   "execution_count": 32,
   "id": "vietnamese-leeds",
   "metadata": {
    "ExecuteTime": {
     "end_time": "2021-07-29T15:14:41.020724Z",
     "start_time": "2021-07-29T15:14:41.018079Z"
    },
    "execution": {
     "iopub.execute_input": "2021-09-15T15:07:55.053770Z",
     "iopub.status.busy": "2021-09-15T15:07:55.053467Z",
     "iopub.status.idle": "2021-09-15T15:07:55.057796Z",
     "shell.execute_reply": "2021-09-15T15:07:55.056782Z",
     "shell.execute_reply.started": "2021-09-15T15:07:55.053738Z"
    },
    "tags": []
   },
   "outputs": [],
   "source": [
    "url = \"https://api.wsitrader.com/api/v1/IMAP/put-layer-config-block\""
   ]
  },
  {
   "cell_type": "code",
   "execution_count": 33,
   "id": "rental-favor",
   "metadata": {
    "ExecuteTime": {
     "end_time": "2021-07-29T15:14:41.651726Z",
     "start_time": "2021-07-29T15:14:41.647976Z"
    },
    "execution": {
     "iopub.execute_input": "2021-09-15T15:07:55.758153Z",
     "iopub.status.busy": "2021-09-15T15:07:55.757866Z",
     "iopub.status.idle": "2021-09-15T15:07:55.762353Z",
     "shell.execute_reply": "2021-09-15T15:07:55.761767Z",
     "shell.execute_reply.started": "2021-09-15T15:07:55.758127Z"
    },
    "tags": []
   },
   "outputs": [
    {
     "data": {
      "text/plain": [
       "'Fire Danger Rating Colorado August 2021'"
      ]
     },
     "execution_count": 33,
     "metadata": {},
     "output_type": "execute_result"
    }
   ],
   "source": [
    "registration_payload[\"analyticsName\"]"
   ]
  },
  {
   "cell_type": "code",
   "execution_count": 34,
   "id": "dying-greensboro",
   "metadata": {
    "ExecuteTime": {
     "end_time": "2021-07-29T15:14:42.683256Z",
     "start_time": "2021-07-29T15:14:42.670888Z"
    },
    "execution": {
     "iopub.execute_input": "2021-09-15T15:07:57.571323Z",
     "iopub.status.busy": "2021-09-15T15:07:57.571077Z",
     "iopub.status.idle": "2021-09-15T15:07:57.576662Z",
     "shell.execute_reply": "2021-09-15T15:07:57.575758Z",
     "shell.execute_reply.started": "2021-09-15T15:07:57.571298Z"
    },
    "tags": []
   },
   "outputs": [],
   "source": [
    "ui_block_payload = {\n",
    "    \"VIEWERSHIP_ROLE\": \"ALL\",\n",
    "    \"CONFIG_BLOCK\": {\n",
    "        \"id\": registration_payload[\"analyticsName\"],\n",
    "        \"modelRegistryId\": None,\n",
    "        \"displayName\": registration_payload[\"analyticsName\"],\n",
    "        \"provider\": None,\n",
    "        \"layerType\": \"grid\",\n",
    "        \"isSelected\": False,\n",
    "        \"isActive\": False,\n",
    "        \"enableValidity\": False,\n",
    "        \"lastUpdatedUtc\": None,\n",
    "        \"coverageArea\": \"Custom\",\n",
    "        \"dataAttributes\": {\n",
    "            \"url\": \"https://foundation.agtech.ibm.com/v2\",\n",
    "            \"uuid\": analytics_uuid\n",
    "        },\n",
    "        \"menuIconUrl\": None,\n",
    "        \"legendUrl\": \"\",\n",
    "        \"styleProperties\": {\n",
    "            \"palette\": {\n",
    "                \"COLOR_STEPS\": color_steps\n",
    "       \n",
    "            },\n",
    "            \"unit\": \"\",\n",
    "            \"isInterpolated\": True,\n",
    "            \"extendMinimumColor\": False,\n",
    "            \"extendMaximumColor\": True,\n",
    "            \"invalidDataValue\": -9999\n",
    "        }\n",
    "    }\n",
    "}"
   ]
  },
  {
   "cell_type": "code",
   "execution_count": 35,
   "id": "streaming-ballot",
   "metadata": {
    "ExecuteTime": {
     "end_time": "2021-07-29T15:14:43.732118Z",
     "start_time": "2021-07-29T15:14:43.728970Z"
    },
    "execution": {
     "iopub.execute_input": "2021-09-15T15:07:58.807665Z",
     "iopub.status.busy": "2021-09-15T15:07:58.807394Z",
     "iopub.status.idle": "2021-09-15T15:07:58.811156Z",
     "shell.execute_reply": "2021-09-15T15:07:58.810405Z",
     "shell.execute_reply.started": "2021-09-15T15:07:58.807635Z"
    },
    "tags": []
   },
   "outputs": [],
   "source": [
    "headers = {\n",
    "  'Authorization': 'Bearer {}'.format(AUTH_TOKEN),\n",
    "  'Content-Type': 'application/json'\n",
    "}"
   ]
  },
  {
   "cell_type": "code",
   "execution_count": 36,
   "id": "abandoned-tuning",
   "metadata": {
    "ExecuteTime": {
     "end_time": "2021-07-29T15:14:45.082764Z",
     "start_time": "2021-07-29T15:14:44.425968Z"
    },
    "execution": {
     "iopub.execute_input": "2021-09-15T15:07:59.423563Z",
     "iopub.status.busy": "2021-09-15T15:07:59.423318Z",
     "iopub.status.idle": "2021-09-15T15:07:59.801451Z",
     "shell.execute_reply": "2021-09-15T15:07:59.800849Z",
     "shell.execute_reply.started": "2021-09-15T15:07:59.423537Z"
    },
    "tags": []
   },
   "outputs": [],
   "source": [
    "response = requests.put(url, headers= headers, data=json.dumps(ui_block_payload))"
   ]
  },
  {
   "cell_type": "code",
   "execution_count": 37,
   "id": "found-thought",
   "metadata": {
    "ExecuteTime": {
     "end_time": "2021-07-29T15:14:45.240423Z",
     "start_time": "2021-07-29T15:14:45.236518Z"
    },
    "execution": {
     "iopub.execute_input": "2021-09-15T15:08:00.410157Z",
     "iopub.status.busy": "2021-09-15T15:08:00.409876Z",
     "iopub.status.idle": "2021-09-15T15:08:00.414634Z",
     "shell.execute_reply": "2021-09-15T15:08:00.413965Z",
     "shell.execute_reply.started": "2021-09-15T15:08:00.410130Z"
    },
    "tags": []
   },
   "outputs": [
    {
     "data": {
      "text/plain": [
       "'Block added'"
      ]
     },
     "execution_count": 37,
     "metadata": {},
     "output_type": "execute_result"
    }
   ],
   "source": [
    "response.text"
   ]
  },
  {
   "cell_type": "markdown",
   "id": "bibliographic-tiffany",
   "metadata": {
    "ExecuteTime": {
     "end_time": "2021-07-19T18:01:04.877001Z",
     "start_time": "2021-07-19T18:01:04.860646Z"
    }
   },
   "source": [
    "# Deleting UI block"
   ]
  },
  {
   "cell_type": "code",
   "execution_count": 82,
   "id": "everyday-protocol",
   "metadata": {
    "ExecuteTime": {
     "end_time": "2021-07-19T18:02:35.208784Z",
     "start_time": "2021-07-19T18:02:35.204764Z"
    },
    "execution": {
     "iopub.execute_input": "2021-09-07T19:03:29.797962Z",
     "iopub.status.busy": "2021-09-07T19:03:29.797726Z",
     "iopub.status.idle": "2021-09-07T19:03:29.802903Z",
     "shell.execute_reply": "2021-09-07T19:03:29.802190Z",
     "shell.execute_reply.started": "2021-09-07T19:03:29.797938Z"
    },
    "tags": []
   },
   "outputs": [
    {
     "data": {
      "text/plain": [
       "'Fire Danger Rating naperville-elgin-16980 August 2021'"
      ]
     },
     "execution_count": 82,
     "metadata": {},
     "output_type": "execute_result"
    }
   ],
   "source": [
    "block_id = registration_payload[\"analyticsName\"]\n",
    "block_id"
   ]
  },
  {
   "cell_type": "code",
   "execution_count": 83,
   "id": "executive-juice",
   "metadata": {
    "ExecuteTime": {
     "end_time": "2021-07-19T18:06:42.587905Z",
     "start_time": "2021-07-19T18:06:42.583813Z"
    },
    "execution": {
     "iopub.execute_input": "2021-09-07T19:03:30.465325Z",
     "iopub.status.busy": "2021-09-07T19:03:30.465103Z",
     "iopub.status.idle": "2021-09-07T19:03:30.468626Z",
     "shell.execute_reply": "2021-09-07T19:03:30.467894Z",
     "shell.execute_reply.started": "2021-09-07T19:03:30.465303Z"
    },
    "tags": []
   },
   "outputs": [],
   "source": [
    "url = \"https://api.wsitrader.com/api/v1/IMAP/get-layer-config-block/{}\".format(block_id)"
   ]
  },
  {
   "cell_type": "code",
   "execution_count": 84,
   "id": "common-necklace",
   "metadata": {
    "ExecuteTime": {
     "end_time": "2021-07-19T18:06:43.934268Z",
     "start_time": "2021-07-19T18:06:43.931141Z"
    },
    "execution": {
     "iopub.execute_input": "2021-09-07T19:03:31.875214Z",
     "iopub.status.busy": "2021-09-07T19:03:31.874931Z",
     "iopub.status.idle": "2021-09-07T19:03:31.879581Z",
     "shell.execute_reply": "2021-09-07T19:03:31.878806Z",
     "shell.execute_reply.started": "2021-09-07T19:03:31.875185Z"
    },
    "tags": []
   },
   "outputs": [],
   "source": [
    "headers = {\n",
    "  'Authorization': 'Bearer {}'.format(jwt)\n",
    "}"
   ]
  },
  {
   "cell_type": "code",
   "execution_count": 85,
   "id": "everyday-soundtrack",
   "metadata": {
    "ExecuteTime": {
     "end_time": "2021-07-19T18:07:11.520782Z",
     "start_time": "2021-07-19T18:07:06.623072Z"
    },
    "execution": {
     "iopub.execute_input": "2021-09-07T19:03:32.783387Z",
     "iopub.status.busy": "2021-09-07T19:03:32.783131Z",
     "iopub.status.idle": "2021-09-07T19:03:33.024734Z",
     "shell.execute_reply": "2021-09-07T19:03:33.023765Z",
     "shell.execute_reply.started": "2021-09-07T19:03:32.783361Z"
    },
    "tags": []
   },
   "outputs": [],
   "source": [
    "response = requests.get(url, headers= headers)"
   ]
  },
  {
   "cell_type": "code",
   "execution_count": 86,
   "id": "golden-pantyhose",
   "metadata": {
    "ExecuteTime": {
     "end_time": "2021-07-19T18:07:15.255983Z",
     "start_time": "2021-07-19T18:07:15.250606Z"
    },
    "execution": {
     "iopub.execute_input": "2021-09-07T19:03:34.187363Z",
     "iopub.status.busy": "2021-09-07T19:03:34.187021Z",
     "iopub.status.idle": "2021-09-07T19:03:34.193544Z",
     "shell.execute_reply": "2021-09-07T19:03:34.192395Z",
     "shell.execute_reply.started": "2021-09-07T19:03:34.187321Z"
    },
    "tags": []
   },
   "outputs": [
    {
     "data": {
      "text/plain": [
       "''"
      ]
     },
     "execution_count": 86,
     "metadata": {},
     "output_type": "execute_result"
    }
   ],
   "source": [
    "response.text"
   ]
  },
  {
   "cell_type": "code",
   "execution_count": 92,
   "id": "equivalent-specification",
   "metadata": {
    "ExecuteTime": {
     "end_time": "2021-07-19T18:08:46.284642Z",
     "start_time": "2021-07-19T18:08:46.282151Z"
    },
    "execution": {
     "iopub.execute_input": "2021-08-30T13:52:03.604091Z",
     "iopub.status.busy": "2021-08-30T13:52:03.603888Z",
     "iopub.status.idle": "2021-08-30T13:52:03.606925Z",
     "shell.execute_reply": "2021-08-30T13:52:03.606230Z",
     "shell.execute_reply.started": "2021-08-30T13:52:03.604069Z"
    }
   },
   "outputs": [],
   "source": [
    "delete_url = \"https://api.wsitrader.com/api/v1/IMAP/delete-layer-config-block/{}\".format(block_id)"
   ]
  },
  {
   "cell_type": "code",
   "execution_count": 93,
   "id": "posted-converter",
   "metadata": {
    "ExecuteTime": {
     "end_time": "2021-07-19T18:08:51.870804Z",
     "start_time": "2021-07-19T18:08:51.868279Z"
    },
    "execution": {
     "iopub.execute_input": "2021-08-30T13:52:04.547994Z",
     "iopub.status.busy": "2021-08-30T13:52:04.547776Z",
     "iopub.status.idle": "2021-08-30T13:52:04.550863Z",
     "shell.execute_reply": "2021-08-30T13:52:04.550270Z",
     "shell.execute_reply.started": "2021-08-30T13:52:04.547970Z"
    }
   },
   "outputs": [],
   "source": [
    "headers = {\n",
    "  'Authorization': 'Bearer {}'.format(jwt)\n",
    "}"
   ]
  },
  {
   "cell_type": "code",
   "execution_count": 94,
   "id": "medium-director",
   "metadata": {
    "ExecuteTime": {
     "end_time": "2021-07-19T18:09:29.968141Z",
     "start_time": "2021-07-19T18:09:29.414078Z"
    },
    "execution": {
     "iopub.execute_input": "2021-08-30T13:52:05.352949Z",
     "iopub.status.busy": "2021-08-30T13:52:05.352609Z",
     "iopub.status.idle": "2021-08-30T13:52:05.711439Z",
     "shell.execute_reply": "2021-08-30T13:52:05.710973Z",
     "shell.execute_reply.started": "2021-08-30T13:52:05.352923Z"
    }
   },
   "outputs": [],
   "source": [
    "response = requests.delete(delete_url, headers= headers)"
   ]
  },
  {
   "cell_type": "code",
   "execution_count": 95,
   "id": "executed-learning",
   "metadata": {
    "ExecuteTime": {
     "end_time": "2021-07-19T18:09:48.529706Z",
     "start_time": "2021-07-19T18:09:48.525446Z"
    },
    "execution": {
     "iopub.execute_input": "2021-08-30T13:52:06.271363Z",
     "iopub.status.busy": "2021-08-30T13:52:06.271135Z",
     "iopub.status.idle": "2021-08-30T13:52:06.275257Z",
     "shell.execute_reply": "2021-08-30T13:52:06.274616Z",
     "shell.execute_reply.started": "2021-08-30T13:52:06.271342Z"
    }
   },
   "outputs": [
    {
     "data": {
      "text/plain": [
       "'Block removed'"
      ]
     },
     "execution_count": 95,
     "metadata": {},
     "output_type": "execute_result"
    }
   ],
   "source": [
    "response.text"
   ]
  },
  {
   "cell_type": "code",
   "execution_count": null,
   "id": "73896013-d6b5-45ed-b682-1e37f05aa373",
   "metadata": {},
   "outputs": [],
   "source": []
  }
 ],
 "metadata": {
  "kernelspec": {
   "display_name": "Python 3 (ipykernel)",
   "language": "python",
   "name": "python3"
  },
  "language_info": {
   "codemirror_mode": {
    "name": "ipython",
    "version": 3
   },
   "file_extension": ".py",
   "mimetype": "text/x-python",
   "name": "python",
   "nbconvert_exporter": "python",
   "pygments_lexer": "ipython3",
   "version": "3.7.10"
  },
  "toc": {
   "base_numbering": 1,
   "nav_menu": {},
   "number_sections": true,
   "sideBar": true,
   "skip_h1_title": false,
   "title_cell": "Table of Contents",
   "title_sidebar": "Contents",
   "toc_cell": false,
   "toc_position": {},
   "toc_section_display": true,
   "toc_window_display": true
  },
  "toc-autonumbering": false,
  "toc-showmarkdowntxt": false
 },
 "nbformat": 4,
 "nbformat_minor": 5
}
